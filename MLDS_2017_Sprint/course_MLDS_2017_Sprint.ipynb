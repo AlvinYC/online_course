{
 "cells": [
  {
   "cell_type": "markdown",
   "metadata": {},
   "source": [
    "http://speech.ee.ntu.edu.tw/~tlkagk/courses_MLDS17.html"
   ]
  },
  {
   "cell_type": "markdown",
   "metadata": {},
   "source": [
    "\n",
    "| Home |  DL/ML Tutorial |  Research Talk |  Research |  Publication |  Course |  Honor |\n",
    "|----- |: ---------------|:---------------|:----------|:-------------|:--------|:------ |\n",
    "\n",
    "\n",
    "  - Introduction of this course: pdf,pptx (2017/02/24)\n",
    "  - HW0 - MINST Number Recognition [pptx](./Homework/HW0-MNIST-Number_recog.pptx), [pdf](./Homework/HW0-MNIST-Number_recog.pdf)(2017/02/24)\n",
    "  - HW1 - Language Modeling: link[pptx](./Homework/HW1- Language Modeling.pptx), [pdf](./Homework/HW1- Language Modeling.pdf)(2017/03/03)\n",
    "  - HW2 - Video Caption Generation [pptx](./Homework/HW2-Seq2seq_and_Attention.pptx), [pdf](./Homework/HW2-Seq2seq_and_Attention.pdf)(2017/03/24)\n",
    "  - HW3 - Anime Generation [pptx](./Homework/HW3-GAN.pptx), [pdf](./Homework/HW3-GAN.pdf)(2017/04/28)\n",
    "  - HW4 - Chat-bot [pptx](./Homework/HW4-Seq2seq_Plus_Reinforcement_Learning.pptx), [pdf](./Homework/HW4-Seq2seq_Plus_Reinforcement_Learning.pdf)(2017/05/19)\n",
    "  - Final - 深度學習流言終結者 link, webpage (2017/03/24)\n",
    "  - TensorFlow (2017/03/10)\n",
    "    - Introduction of TensorFlow: [pdf](./Tensorflow/Tensorflow Intro.pdf)\n",
    "    - Example 1 - Word2vector: [pdf](./Tensorflow/word2vec.pptx.pdf)\n",
    "    - Example 2 - Convolutional Neural Network: [pdf](./Tensorflow/Tensorflow_CNN.pdf)\n",
    "  - Basic Structures for Deep Learning Models: pdf, pptx, video (part 1), video (part 2) (2017/03/03)\n",
    "  - Computational Graph for Backpropagation pdf, pptx, video(2017/03/17)\n",
    "  - Deep Learning for Language Modeling pdf, pptx, video (2017/03/03)\n",
    "  - Special Deep Learning Structure (2017/03/17,2017/03/24) pdf, pptx,\n",
    "    - video:[Spatial Transformer Layer](https://www.youtube.com/watch?v=SoCywZ1hZak&index=5&list=PLJV_el3uVTsPMxPbjeX7PicgWbY7F8wW9) [Youtube]\n",
    "    - video:[Highway Network & Grid LSTM](https://www.youtube.com/watch?v=dxB6299gpvI&list=PLJV_el3uVTsPMxPbjeX7PicgWbY7F8wW9&index=6) [Youtube]\n",
    "    - video:[Recursive Network](https://www.youtube.com/watch?v=z0uOq2wEGcc&index=7&list=PLJV_el3uVTsPMxPbjeX7PicgWbY7F8wW9) [Youtube]\n",
    "  - Conditional Generation by RNN [pdf](./Attention_Conditional_Generation_by_RNN/Attain_v5.pdf), pptx, video (2017/03/24) <font color='red'>[attention]</font>\n",
    "  - Generative Adversarial Network\n",
    "    - Basic Idea (2017/04/21): [pdf](./GAN/GANv11.pdf), pptx, video\n",
    "    - Improving GAN (2017/05/05): [pdf](./GAN/More_GAN_v14.pdf), pptx, video\n",
    "    - GAN and Feature Representation (2017/05/12): [pdf](./GAN/GAN_feature_v3.pdf), pptx\n",
    "    - Energy-based GAN (2017/05/26): [pdf](./GAN/EBGAN_v9.pdf), pptx\n",
    "    - Ensemble of GAN (2017/05/26): [pdf](./GAN/EnsembleGAN_v5.pdf), pptx\n",
    "    - GAN for Chat-bot (2017/05/19): [pdf](./GAN/More_Seq_v8), pptx, video\n",
    "    - NEW GAME! (2017/05/19): [pdf](./GAN/anime.pdf), pptx, video\n",
    "    - Video Generation (2017/05/26): [pdf](./GAN/Video_Generation.pdf), pptx\n",
    "    - Evaluation of GAN (2017/05/05): [pdf](./GAN/More_GAN_v14.pdf), pptx, video\n",
    "  - Deep Reinforcement Learning\n",
    "    - A3C and DDPG (2017/06/02): [pdf](./Deep_Reinforcement_learning/RL_v5.pdf), pptx\n",
    "    - Imitation Learning (2017/06/09): [pdf](./Deep_Reinforcement_learning/IRL_v3.pdf), pptx\n",
    "  - Deep Learning for Dialogue by Prof. 陳縕儂 (2017/03/30)\n",
    "  - Deep Learning on Chip by Prof. 楊家驤 (2017/04/07)\n",
    "  - Deep Learning for Speech Processing by Dr. 曹昱 (2017/04/28)"
   ]
  },
  {
   "cell_type": "code",
   "execution_count": null,
   "metadata": {
    "collapsed": true
   },
   "outputs": [],
   "source": []
  }
 ],
 "metadata": {
  "kernelspec": {
   "display_name": "Python 3",
   "language": "python",
   "name": "python3"
  },
  "language_info": {
   "codemirror_mode": {
    "name": "ipython",
    "version": 3
   },
   "file_extension": ".py",
   "mimetype": "text/x-python",
   "name": "python",
   "nbconvert_exporter": "python",
   "pygments_lexer": "ipython3",
   "version": "3.5.2"
  }
 },
 "nbformat": 4,
 "nbformat_minor": 2
}
